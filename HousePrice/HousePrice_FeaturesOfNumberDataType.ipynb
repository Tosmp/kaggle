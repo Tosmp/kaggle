{
 "cells": [
  {
   "cell_type": "code",
   "execution_count": 1,
   "metadata": {
    "_cell_guid": "b1076dfc-b9ad-4769-8c92-a6c4dae69d19",
    "_uuid": "8f2839f25d086af736a60e9eeb907d3b93b6e0e5"
   },
   "outputs": [
    {
     "name": "stdout",
     "output_type": "stream",
     "text": [
      "/kaggle/input/house-prices-advanced-regression-techniques/sample_submission.csv\n",
      "/kaggle/input/house-prices-advanced-regression-techniques/data_description.txt\n",
      "/kaggle/input/house-prices-advanced-regression-techniques/test.csv\n",
      "/kaggle/input/house-prices-advanced-regression-techniques/train.csv\n"
     ]
    }
   ],
   "source": [
    "# This Python 3 environment comes with many helpful analytics libraries installed\n",
    "# It is defined by the kaggle/python docker image: https://github.com/kaggle/docker-python\n",
    "# For example, here's several helpful packages to load in \n",
    "\n",
    "import numpy as np # linear algebra\n",
    "import pandas as pd # data processing, CSV file I/O (e.g. pd.read_csv)\n",
    "\n",
    "# Input data files are available in the \"../input/\" directory.\n",
    "# For example, running this (by clicking run or pressing Shift+Enter) will list all files under the input directory\n",
    "\n",
    "import os\n",
    "for dirname, _, filenames in os.walk('/kaggle/input'):\n",
    "    for filename in filenames:\n",
    "        print(os.path.join(dirname, filename))\n",
    "\n",
    "# Any results you write to the current directory are saved as output."
   ]
  },
  {
   "cell_type": "code",
   "execution_count": 2,
   "metadata": {
    "_cell_guid": "79c7e3d0-c299-4dcb-8224-4455121ee9b0",
    "_uuid": "d629ff2d2480ee46fbb7e2d37f6b5fab8052498a"
   },
   "outputs": [],
   "source": [
    "#invite people for the Kaggle party\n",
    "import pandas as pd\n",
    "import matplotlib.pyplot as plt\n",
    "import numpy as np\n",
    "\n",
    "import seaborn as sns # what?\n",
    "from scipy.stats import norm\n",
    "from sklearn.preprocessing import StandardScaler\n",
    "from scipy import stats\n",
    "import warnings\n",
    "warnings.filterwarnings('ignore')\n",
    "%matplotlib inline"
   ]
  },
  {
   "cell_type": "code",
   "execution_count": 3,
   "metadata": {},
   "outputs": [],
   "source": [
    "tr = pd.read_csv('/kaggle/input/house-prices-advanced-regression-techniques/train.csv')\n",
    "te = pd.read_csv('/kaggle/input/house-prices-advanced-regression-techniques/test.csv')\n",
    "train = tr.fillna(0)\n",
    "test = te.fillna(0)"
   ]
  },
  {
   "cell_type": "code",
   "execution_count": 4,
   "metadata": {},
   "outputs": [],
   "source": [
    "feature_names = ['GarageArea', 'GarageCars', 'TotRmsAbvGrd', 'BedroomAbvGr', 'GrLivArea',\n",
    "                 '1stFlrSF', '2ndFlrSF', 'TotalBsmtSF', 'OverallQual', 'OverallCond',\n",
    "                 'MSSubClass']\n",
    "X = train[feature_names]\n",
    "x = test[feature_names]\n",
    "Y = train['SalePrice']"
   ]
  },
  {
   "cell_type": "code",
   "execution_count": 5,
   "metadata": {},
   "outputs": [
    {
     "data": {
      "text/plain": [
       "'\\nimport xgboost as xgb\\ndtrain = xgb.DMatrix(X,label = X)\\ndvalid = xgb.DMatrix(Y,label = Y)\\ndtest = xgb.Dmatrix(x)\\n'"
      ]
     },
     "execution_count": 5,
     "metadata": {},
     "output_type": "execute_result"
    }
   ],
   "source": [
    "\"\"\"\n",
    "import xgboost as xgb\n",
    "dtrain = xgb.DMatrix(X,label = X)\n",
    "dvalid = xgb.DMatrix(Y,label = Y)\n",
    "dtest = xgb.Dmatrix(x)\n",
    "\"\"\"\n"
   ]
  },
  {
   "cell_type": "code",
   "execution_count": 6,
   "metadata": {},
   "outputs": [
    {
     "name": "stdout",
     "output_type": "stream",
     "text": [
      "[17:19:07] WARNING: /workspace/src/objective/regression_obj.cu:152: reg:linear is now deprecated in favor of reg:squarederror.\n"
     ]
    }
   ],
   "source": [
    "import xgboost as xgb\n",
    "# モデルのインスタンス作成\n",
    "model = xgb.XGBRegressor()\n",
    "model.fit(X, Y)\n",
    "y_train_pred = model.predict(X)\n",
    "y_test_pred = model.predict(x)"
   ]
  },
  {
   "cell_type": "code",
   "execution_count": 7,
   "metadata": {},
   "outputs": [],
   "source": [
    "\n",
    "submission = pd.DataFrame()\n",
    "submission['Id'] = te['Id']\n",
    "submission['SalePrice'] = y_test_pred\n",
    "submission.set_index(\"Id\",inplace=True)"
   ]
  },
  {
   "cell_type": "code",
   "execution_count": 8,
   "metadata": {},
   "outputs": [
    {
     "name": "stdout",
     "output_type": "stream",
     "text": [
      "          SalePrice\n",
      "Id                 \n",
      "1461  125699.406250\n",
      "1462  153808.843750\n",
      "1463  157736.703125\n",
      "1464  168501.765625\n",
      "1465  217129.531250\n",
      "...             ...\n",
      "2915   84500.835938\n",
      "2916   89078.093750\n",
      "2917  156158.312500\n",
      "2918  106992.093750\n",
      "2919  238876.171875\n",
      "\n",
      "[1459 rows x 1 columns]\n"
     ]
    }
   ],
   "source": [
    "print(submission)\n",
    "submission.to_csv(\"HousePrice_XGB_1.csv\", index_label = [\"Id\"])"
   ]
  },
  {
   "cell_type": "code",
   "execution_count": null,
   "metadata": {},
   "outputs": [],
   "source": []
  }
 ],
 "metadata": {
  "kernelspec": {
   "display_name": "Python 3",
   "language": "python",
   "name": "python3"
  },
  "language_info": {
   "codemirror_mode": {
    "name": "ipython",
    "version": 3
   },
   "file_extension": ".py",
   "mimetype": "text/x-python",
   "name": "python",
   "nbconvert_exporter": "python",
   "pygments_lexer": "ipython3",
   "version": "3.6.6"
  }
 },
 "nbformat": 4,
 "nbformat_minor": 1
}
